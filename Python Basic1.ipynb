{
 "cells": [
  {
   "cell_type": "markdown",
   "id": "110c8f59",
   "metadata": {},
   "source": [
    "#### Python String functions"
   ]
  },
  {
   "cell_type": "markdown",
   "id": "0459e800",
   "metadata": {},
   "source": [
    "- format is the method of string object\n",
    "- other string object methods: capitalize, upper, lower, swapcase, title\n",
    "- casefold()  is similar to lower but is stronger\n",
    "- srting objects are immutable, so the functions return a different object"
   ]
  },
  {
   "cell_type": "code",
   "execution_count": 2,
   "id": "9da8d594",
   "metadata": {},
   "outputs": [
    {
     "name": "stdout",
     "output_type": "stream",
     "text": [
      "Roll no. 42\n"
     ]
    }
   ],
   "source": [
    "x = 42\n",
    "s = 'Roll no. {}'.format(x)\n",
    "print(s)"
   ]
  },
  {
   "cell_type": "code",
   "execution_count": 3,
   "id": "f4ce51e1",
   "metadata": {},
   "outputs": [
    {
     "name": "stdout",
     "output_type": "stream",
     "text": [
      "Roll no. 42\n"
     ]
    }
   ],
   "source": [
    "# we can also have the format inside print statement.\n",
    "print('Roll no. {}'.format(x))"
   ]
  },
  {
   "cell_type": "code",
   "execution_count": 4,
   "id": "d18ad44a",
   "metadata": {},
   "outputs": [
    {
     "name": "stdout",
     "output_type": "stream",
     "text": [
      "Roll no. 42\n"
     ]
    }
   ],
   "source": [
    "# fstring method\n",
    "print(f'Roll no. {x}')"
   ]
  },
  {
   "cell_type": "code",
   "execution_count": 13,
   "id": "0dc8c93d",
   "metadata": {},
   "outputs": [
    {
     "name": "stdout",
     "output_type": "stream",
     "text": [
      "Roll no. 8 and 9\n"
     ]
    }
   ],
   "source": [
    "# format method has positional arguements\n",
    "y = 'Roll no. {} and {}'.format(8,9)\n",
    "print(y)"
   ]
  },
  {
   "cell_type": "code",
   "execution_count": 16,
   "id": "f413acc3",
   "metadata": {},
   "outputs": [
    {
     "name": "stdout",
     "output_type": "stream",
     "text": [
      "Roll no. 9 and 8\n"
     ]
    }
   ],
   "source": [
    "# we can specify the position in the curly braces\n",
    "y = 'Roll no. {1} and {0}'.format(8,9)\n",
    "print(y)\n",
    "\n",
    "#  inside format, the position begin with 0"
   ]
  },
  {
   "cell_type": "markdown",
   "id": "8644dc4c",
   "metadata": {},
   "source": [
    "#### String formatting instructions\n",
    "-  They are preceded by a :\n",
    "- < represents left justification\n"
   ]
  },
  {
   "cell_type": "code",
   "execution_count": 1,
   "id": "5b38d44a",
   "metadata": {},
   "outputs": [
    {
     "name": "stdout",
     "output_type": "stream",
     "text": [
      "the numbers are 42    and 33\n"
     ]
    }
   ],
   "source": [
    "x = 42\n",
    "y = 33\n",
    "print('the numbers are {0:<5} and {1:>2}'.format(x,y))\n",
    "\n",
    "# the numbers get left and right justified by 5 and 2 positions "
   ]
  },
  {
   "cell_type": "code",
   "execution_count": 5,
   "id": "556500e7",
   "metadata": {},
   "outputs": [
    {
     "name": "stdout",
     "output_type": "stream",
     "text": [
      "the numbers are 42000 and 33\n"
     ]
    }
   ],
   "source": [
    "# we can add leading 0s or signs instead of white space\n",
    "print('the numbers are {0:<05} and {1:>02}'.format(x,y))\n",
    "\n",
    "# here no 0s for 33 as there are already two digits"
   ]
  },
  {
   "cell_type": "code",
   "execution_count": 6,
   "id": "54ee2a3e",
   "metadata": {},
   "outputs": [
    {
     "name": "stdout",
     "output_type": "stream",
     "text": [
      "the numbers are +42   and 0033\n"
     ]
    }
   ],
   "source": [
    "print('the numbers are {0:<+5} and {1:>04}'.format(x,y))\n",
    "\n",
    "# the first number is left justified with a + in the beginning\n",
    "# second number is right justified by 4 positionsin total, thus preceeded by two zeroes."
   ]
  },
  {
   "cell_type": "code",
   "execution_count": 8,
   "id": "e549d958",
   "metadata": {},
   "outputs": [
    {
     "name": "stdout",
     "output_type": "stream",
     "text": [
      "the number is 33,600 \n"
     ]
    }
   ],
   "source": [
    "# using , in the {} to show thousand seperator\n",
    "print('the number is {x:,} '.format(x=42*800))"
   ]
  },
  {
   "cell_type": "code",
   "execution_count": 16,
   "id": "ad9644ac",
   "metadata": {},
   "outputs": [
    {
     "name": "stdout",
     "output_type": "stream",
     "text": [
      "the number is 54.00\n"
     ]
    }
   ],
   "source": [
    "# specify decimal places with .f\n",
    "print('the number is {x:.2f}'.format(x=54))"
   ]
  },
  {
   "cell_type": "markdown",
   "id": "f5afb16a",
   "metadata": {},
   "source": [
    "#### More functions"
   ]
  },
  {
   "cell_type": "code",
   "execution_count": 4,
   "id": "79c6557c",
   "metadata": {},
   "outputs": [
    {
     "name": "stdout",
     "output_type": "stream",
     "text": [
      "hELLO wORLD\n"
     ]
    }
   ],
   "source": [
    "#swapcase() changes lower to upper and vice versa.\n",
    "\n",
    "print('Hello World'.swapcase())"
   ]
  },
  {
   "cell_type": "code",
   "execution_count": 12,
   "id": "0d581865",
   "metadata": {},
   "outputs": [
    {
     "name": "stdout",
     "output_type": "stream",
     "text": [
      " Hello \n",
      "\n",
      "\n",
      " Hello.2\n"
     ]
    }
   ],
   "source": [
    "# with triple quotes you can give spacing within the string\n",
    "# they preserve tabs, line breaks , and white spaces\n",
    "\n",
    "print(\"\"\" Hello \n",
    "\n",
    "\n",
    " Hello.{}\"\"\"\n",
    "     .format(2))"
   ]
  },
  {
   "cell_type": "code",
   "execution_count": 13,
   "id": "8c937c0d",
   "metadata": {},
   "outputs": [
    {
     "data": {
      "text/plain": [
       "'My Dear Lolita'"
      ]
     },
     "execution_count": 13,
     "metadata": {},
     "output_type": "execute_result"
    }
   ],
   "source": [
    "#title() capitalize first letter of every  word\n",
    "s = 'my dear lolita'\n",
    "s.title()"
   ]
  },
  {
   "cell_type": "markdown",
   "id": "de827a6b",
   "metadata": {},
   "source": [
    "####  String Concatenation"
   ]
  },
  {
   "cell_type": "code",
   "execution_count": 15,
   "id": "edd9b463",
   "metadata": {},
   "outputs": [
    {
     "name": "stdout",
     "output_type": "stream",
     "text": [
      "Hello This is Simi\n"
     ]
    }
   ],
   "source": [
    "s1 = 'Hello '\n",
    "s2 = 'This is Simi'\n",
    "print(s1 + s2)"
   ]
  },
  {
   "cell_type": "markdown",
   "id": "f972baea",
   "metadata": {},
   "source": [
    "#### String Splitting and joining"
   ]
  },
  {
   "cell_type": "code",
   "execution_count": 17,
   "id": "851c398c",
   "metadata": {},
   "outputs": [
    {
     "data": {
      "text/plain": [
       "['This', 'is', 'lengthy']"
      ]
     },
     "execution_count": 17,
     "metadata": {},
     "output_type": "execute_result"
    }
   ],
   "source": [
    "# string to list\n",
    "s = 'This is lengthy'\n",
    "s.split()"
   ]
  },
  {
   "cell_type": "code",
   "execution_count": 19,
   "id": "0819b29a",
   "metadata": {},
   "outputs": [
    {
     "data": {
      "text/plain": [
       "['Th', 's ', 's lengthy']"
      ]
     },
     "execution_count": 19,
     "metadata": {},
     "output_type": "execute_result"
    }
   ],
   "source": [
    "# splitting on letter i, i is removed\n",
    "s.split('i')"
   ]
  },
  {
   "cell_type": "code",
   "execution_count": 20,
   "id": "95353976",
   "metadata": {},
   "outputs": [],
   "source": [
    "s = 'This is lengthy'\n",
    "l = s.split()\n",
    "j_str = ':'.join(l)"
   ]
  },
  {
   "cell_type": "code",
   "execution_count": 21,
   "id": "2091cda6",
   "metadata": {},
   "outputs": [
    {
     "data": {
      "text/plain": [
       "'This:is:lengthy'"
      ]
     },
     "execution_count": 21,
     "metadata": {},
     "output_type": "execute_result"
    }
   ],
   "source": [
    "j_str"
   ]
  },
  {
   "cell_type": "markdown",
   "id": "d836aa4a",
   "metadata": {},
   "source": [
    "#### Fibonacci series"
   ]
  },
  {
   "cell_type": "code",
   "execution_count": 8,
   "id": "b35c0a92",
   "metadata": {},
   "outputs": [
    {
     "name": "stdout",
     "output_type": "stream",
     "text": [
      "1\n",
      "1\n",
      "2\n",
      "3\n",
      "5\n",
      "8\n",
      "13\n"
     ]
    }
   ],
   "source": [
    "# fibonacci series\n",
    "a,b = 0,1\n",
    "\n",
    "while b < 20:\n",
    "    print(b, end ='\\n',flush = True)\n",
    "    a,b = b, a+b\n",
    "    \n",
    "# end gives space or any symbol after each print "
   ]
  },
  {
   "cell_type": "markdown",
   "id": "1ada1d88",
   "metadata": {},
   "source": [
    "#### NoneType"
   ]
  },
  {
   "cell_type": "code",
   "execution_count": 11,
   "id": "fe5424be",
   "metadata": {},
   "outputs": [
    {
     "name": "stdout",
     "output_type": "stream",
     "text": [
      "3\n",
      "None\n"
     ]
    }
   ],
   "source": [
    "def ftn(n):\n",
    "        print(n)\n",
    "  \n",
    "\n",
    "x = ftn(3)\n",
    "print(x)\n",
    "\n",
    "#  x will have the passed on value if there is explicit return statement.\n",
    "# if there is no return statement, a function will return none."
   ]
  },
  {
   "cell_type": "markdown",
   "id": "5ba48e72",
   "metadata": {},
   "source": [
    "#### Python class type"
   ]
  },
  {
   "cell_type": "code",
   "execution_count": 12,
   "id": "7bc7f491",
   "metadata": {},
   "outputs": [
    {
     "data": {
      "text/plain": [
       "int"
      ]
     },
     "execution_count": 12,
     "metadata": {},
     "output_type": "execute_result"
    }
   ],
   "source": [
    "# type() function determines class type\n",
    "type(a)"
   ]
  },
  {
   "cell_type": "markdown",
   "id": "4cfd5256",
   "metadata": {
    "collapsed": true
   },
   "source": [
    "In python you need not declare the type of variable, it is autodetermined (duck typing)\n",
    "\n"
   ]
  },
  {
   "cell_type": "code",
   "execution_count": null,
   "id": "9384c6e1",
   "metadata": {},
   "outputs": [],
   "source": [
    "##### Double divide symbol gives integer division, that is you get the integer as quotient\n",
    "# and remainder part is not included and type also changes accordingly.\n",
    "\n",
    "x = 5/3\n",
    "print(x)"
   ]
  },
  {
   "cell_type": "code",
   "execution_count": 19,
   "id": "90a65e8e",
   "metadata": {},
   "outputs": [
    {
     "name": "stdout",
     "output_type": "stream",
     "text": [
      "1\n"
     ]
    }
   ],
   "source": [
    "x = 5//3\n",
    "print(x)"
   ]
  },
  {
   "cell_type": "markdown",
   "id": "46d64974",
   "metadata": {},
   "source": [
    "#### Decimal Library"
   ]
  },
  {
   "cell_type": "code",
   "execution_count": 20,
   "id": "09abb9bf",
   "metadata": {},
   "outputs": [
    {
     "name": "stdout",
     "output_type": "stream",
     "text": [
      "5.551115123125783e-17\n"
     ]
    }
   ],
   "source": [
    "# it is advisable not to use floating points while dealing with money\n",
    "x =.1 +.1 + .1 -.3\n",
    "print(x)"
   ]
  },
  {
   "cell_type": "code",
   "execution_count": 21,
   "id": "7b385fe6",
   "metadata": {},
   "outputs": [],
   "source": [
    "# instead of 0 we get a wierd result\n",
    "# to avoid this we use decimal module as a workaround"
   ]
  },
  {
   "cell_type": "code",
   "execution_count": 22,
   "id": "53387c6f",
   "metadata": {},
   "outputs": [],
   "source": [
    "from decimal import *"
   ]
  },
  {
   "cell_type": "code",
   "execution_count": 23,
   "id": "48826d33",
   "metadata": {},
   "outputs": [
    {
     "name": "stdout",
     "output_type": "stream",
     "text": [
      "0.0\n"
     ]
    }
   ],
   "source": [
    "a = Decimal('0.1')\n",
    "b = Decimal('0.3')\n",
    "x = a + a +a -b\n",
    "print(x)"
   ]
  },
  {
   "cell_type": "code",
   "execution_count": 25,
   "id": "d9b0b7c8",
   "metadata": {},
   "outputs": [
    {
     "name": "stdout",
     "output_type": "stream",
     "text": [
      "<class 'NoneType'>\n"
     ]
    }
   ],
   "source": [
    "# Like True and False for boolean type, we have None for NoneType\n",
    "x = None\n",
    "print(type(x))\n",
    "\n",
    "\n",
    "# Note, it should begin with capital N, it represents absence of value"
   ]
  },
  {
   "cell_type": "code",
   "execution_count": 26,
   "id": "951a35f7",
   "metadata": {},
   "outputs": [
    {
     "name": "stdout",
     "output_type": "stream",
     "text": [
      "False\n"
     ]
    }
   ],
   "source": [
    "x = None\n",
    "\n",
    "if x:\n",
    "    print('True')\n",
    "else:\n",
    "    print('False')\n",
    "    \n",
    "# similarly x=0 or x='' empty string will evaluate to false"
   ]
  },
  {
   "cell_type": "markdown",
   "id": "b4345f05",
   "metadata": {},
   "source": [
    "#### Sequence Types in python: lists, tuples, and dictionaries"
   ]
  },
  {
   "cell_type": "code",
   "execution_count": 30,
   "id": "13025bff",
   "metadata": {},
   "outputs": [
    {
     "name": "stdout",
     "output_type": "stream",
     "text": [
      "i is 1\n",
      "i is 2\n",
      "i is 3\n",
      "i is 4\n",
      "i is 5\n"
     ]
    }
   ],
   "source": [
    "# simple looping around the list\n",
    "\n",
    "x = [1,2,3,4,5]\n",
    "\n",
    "for i in x:\n",
    "    print('i is {}'.format(i))"
   ]
  },
  {
   "cell_type": "code",
   "execution_count": 31,
   "id": "57287970",
   "metadata": {},
   "outputs": [
    {
     "ename": "TypeError",
     "evalue": "'tuple' object does not support item assignment",
     "output_type": "error",
     "traceback": [
      "\u001b[1;31m---------------------------------------------------------------------------\u001b[0m",
      "\u001b[1;31mTypeError\u001b[0m                                 Traceback (most recent call last)",
      "\u001b[1;32m<ipython-input-31-5c2276bf3953>\u001b[0m in \u001b[0;36m<module>\u001b[1;34m\u001b[0m\n\u001b[0;32m      2\u001b[0m \u001b[1;33m\u001b[0m\u001b[0m\n\u001b[0;32m      3\u001b[0m \u001b[0mx\u001b[0m\u001b[1;33m=\u001b[0m \u001b[1;33m(\u001b[0m\u001b[1;36m1\u001b[0m\u001b[1;33m,\u001b[0m\u001b[1;36m2\u001b[0m\u001b[1;33m,\u001b[0m\u001b[1;36m3\u001b[0m\u001b[1;33m,\u001b[0m\u001b[1;36m4\u001b[0m\u001b[1;33m)\u001b[0m\u001b[1;33m\u001b[0m\u001b[1;33m\u001b[0m\u001b[0m\n\u001b[1;32m----> 4\u001b[1;33m \u001b[0mx\u001b[0m\u001b[1;33m[\u001b[0m\u001b[1;36m1\u001b[0m\u001b[1;33m]\u001b[0m \u001b[1;33m=\u001b[0m \u001b[1;36m6\u001b[0m\u001b[1;33m\u001b[0m\u001b[1;33m\u001b[0m\u001b[0m\n\u001b[0m\u001b[0;32m      5\u001b[0m \u001b[0mprint\u001b[0m\u001b[1;33m(\u001b[0m\u001b[0mx\u001b[0m\u001b[1;33m)\u001b[0m\u001b[1;33m\u001b[0m\u001b[1;33m\u001b[0m\u001b[0m\n",
      "\u001b[1;31mTypeError\u001b[0m: 'tuple' object does not support item assignment"
     ]
    }
   ],
   "source": [
    "# List is mutable and supports item assignment whereas tuple is immutable, tuple has round brackets\n",
    "\n",
    "x= (1,2,3,4)\n",
    "x[1] = 6\n",
    "print(x)"
   ]
  },
  {
   "cell_type": "code",
   "execution_count": 32,
   "id": "681df92e",
   "metadata": {},
   "outputs": [
    {
     "name": "stdout",
     "output_type": "stream",
     "text": [
      "<class 'tuple'>\n"
     ]
    }
   ],
   "source": [
    "x =1,2,3\n",
    "print(type(x))\n",
    "\n",
    "# tuple need not have the round braces"
   ]
  },
  {
   "cell_type": "markdown",
   "id": "7c40bedf",
   "metadata": {},
   "source": [
    "#### Range Object"
   ]
  },
  {
   "cell_type": "code",
   "execution_count": 33,
   "id": "b6af58c8",
   "metadata": {},
   "outputs": [
    {
     "name": "stdout",
     "output_type": "stream",
     "text": [
      "<class 'range'>\n"
     ]
    }
   ],
   "source": [
    "x = range(5)\n",
    "print(type(x))"
   ]
  },
  {
   "cell_type": "code",
   "execution_count": 34,
   "id": "445673ef",
   "metadata": {},
   "outputs": [],
   "source": [
    "# Range object is also immutable\n",
    "# range can have start, stop, and step as parameters.\n",
    "\n",
    "# x[2] = 7 will give error"
   ]
  },
  {
   "cell_type": "code",
   "execution_count": 35,
   "id": "4af5d338",
   "metadata": {},
   "outputs": [
    {
     "name": "stdout",
     "output_type": "stream",
     "text": [
      "[5, 15, 25, 35, 45]\n"
     ]
    }
   ],
   "source": [
    "# to have changes in range values , we have to convert it into list\n",
    "x = list(range(5,50,10))\n",
    "print(x)"
   ]
  },
  {
   "cell_type": "markdown",
   "id": "bba3a17c",
   "metadata": {},
   "source": [
    "#### id(), is(), and in()"
   ]
  },
  {
   "cell_type": "code",
   "execution_count": 36,
   "id": "ef07e439",
   "metadata": {},
   "outputs": [
    {
     "name": "stdout",
     "output_type": "stream",
     "text": [
      "1693808350912\n",
      "1693808657536\n"
     ]
    }
   ],
   "source": [
    "# id() returns unique identifier for the object.\n",
    "\n",
    "x = (1, 'two', 3)\n",
    "y = (1, 'two', 3)\n",
    "\n",
    "print(id(x))\n",
    "print(id(y))"
   ]
  },
  {
   "cell_type": "code",
   "execution_count": 37,
   "id": "39727590",
   "metadata": {},
   "outputs": [
    {
     "name": "stdout",
     "output_type": "stream",
     "text": [
      "140704762898224\n",
      "140704762898224\n"
     ]
    }
   ],
   "source": [
    "print(id(x[0]))\n",
    "print(id(y[0]))\n",
    "\n",
    "# the ids are same and it is for the numeral 1\n"
   ]
  },
  {
   "cell_type": "code",
   "execution_count": 38,
   "id": "df7a6eef",
   "metadata": {},
   "outputs": [
    {
     "name": "stdout",
     "output_type": "stream",
     "text": [
      "same object\n"
     ]
    }
   ],
   "source": [
    "# you can also check theobject similarity with is method\n",
    "\n",
    "if x[0] is y[0]:\n",
    "    print('same object')\n",
    "else:\n",
    "    print('different object')\n",
    "    \n",
    "    \n",
    "# we can also have is not operator, saying the objects are not same"
   ]
  },
  {
   "cell_type": "code",
   "execution_count": 40,
   "id": "dcf8afbc",
   "metadata": {},
   "outputs": [
    {
     "name": "stdout",
     "output_type": "stream",
     "text": [
      "True\n"
     ]
    }
   ],
   "source": [
    "#to check the type of object\n",
    "print(isinstance(x,tuple))\n",
    "\n",
    "# note we do not use quotes for tuple"
   ]
  },
  {
   "cell_type": "code",
   "execution_count": 1,
   "id": "42f5e257",
   "metadata": {},
   "outputs": [
    {
     "name": "stdout",
     "output_type": "stream",
     "text": [
      "present\n"
     ]
    }
   ],
   "source": [
    "# similar to is operator we have in operator to check if an element is present in the collection\n",
    "\n",
    "x = [1,2,3,4,5]\n",
    "\n",
    "if 4 in x:\n",
    "    print('present')\n",
    "else:\n",
    "    print('absent')\n",
    "    \n",
    "\n",
    "# we can also test not in condition"
   ]
  },
  {
   "cell_type": "markdown",
   "id": "bd871e05",
   "metadata": {},
   "source": [
    "#### Ternary operator"
   ]
  },
  {
   "cell_type": "code",
   "execution_count": null,
   "id": "4bb7f8b1",
   "metadata": {},
   "outputs": [],
   "source": [
    "# here the if clause can be tested within the assignment statement\n",
    "\n",
    "hungry = True\n",
    "x = 'Feed the pet now' if hungry else 'do not feed '\n",
    "print(x)\n",
    "\n",
    "# here it is necessary include else operator"
   ]
  },
  {
   "cell_type": "code",
   "execution_count": 3,
   "id": "fe2774db",
   "metadata": {},
   "outputs": [],
   "source": [
    "#### checking if loop"
   ]
  },
  {
   "cell_type": "code",
   "execution_count": 3,
   "id": "c0a9f57c",
   "metadata": {},
   "outputs": [
    {
     "name": "stdout",
     "output_type": "stream",
     "text": [
      "elif true\n"
     ]
    }
   ],
   "source": [
    "\n",
    "if False:\n",
    "          print ('if true')\n",
    "elif True:\n",
    "          print ('elif true')\n",
    "else:\n",
    "          print ('neither true')"
   ]
  },
  {
   "cell_type": "code",
   "execution_count": null,
   "id": "3c07ad0c",
   "metadata": {},
   "outputs": [],
   "source": []
  }
 ],
 "metadata": {
  "kernelspec": {
   "display_name": "Python 3",
   "language": "python",
   "name": "python3"
  },
  "language_info": {
   "codemirror_mode": {
    "name": "ipython",
    "version": 3
   },
   "file_extension": ".py",
   "mimetype": "text/x-python",
   "name": "python",
   "nbconvert_exporter": "python",
   "pygments_lexer": "ipython3",
   "version": "3.8.8"
  }
 },
 "nbformat": 4,
 "nbformat_minor": 5
}
