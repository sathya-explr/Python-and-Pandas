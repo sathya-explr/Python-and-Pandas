{
 "cells": [
  {
   "cell_type": "markdown",
   "id": "206148b0",
   "metadata": {},
   "source": [
    "### Numpy arrays from lists and tuples "
   ]
  },
  {
   "cell_type": "code",
   "execution_count": 1,
   "id": "9355b0b9",
   "metadata": {},
   "outputs": [],
   "source": [
    "import numpy as np"
   ]
  },
  {
   "cell_type": "code",
   "execution_count": 2,
   "id": "c4df5e3b",
   "metadata": {},
   "outputs": [],
   "source": [
    "Lis1 = [1,2,3,4,5]"
   ]
  },
  {
   "cell_type": "markdown",
   "id": "76b09a21",
   "metadata": {},
   "source": [
    "#### Creating numpy array fro a list\n",
    "- use np.array(lis_name)\n"
   ]
  },
  {
   "cell_type": "code",
   "execution_count": 3,
   "id": "207a079a",
   "metadata": {},
   "outputs": [],
   "source": [
    "np_lis1 = np.array(Lis1)"
   ]
  },
  {
   "cell_type": "code",
   "execution_count": 4,
   "id": "37cf2321",
   "metadata": {},
   "outputs": [
    {
     "data": {
      "text/plain": [
       "array([1, 2, 3, 4, 5])"
      ]
     },
     "execution_count": 4,
     "metadata": {},
     "output_type": "execute_result"
    }
   ],
   "source": [
    "np_lis1"
   ]
  },
  {
   "cell_type": "markdown",
   "id": "2e7dd4b9",
   "metadata": {},
   "source": [
    "-   If we use use mixed datatype, numpy will convert everything into common datatype say float, string"
   ]
  },
  {
   "cell_type": "code",
   "execution_count": 6,
   "id": "e5d27c2a",
   "metadata": {},
   "outputs": [],
   "source": [
    "lis2 = [1,2, \"abs\"]"
   ]
  },
  {
   "cell_type": "code",
   "execution_count": 8,
   "id": "23d4a481",
   "metadata": {},
   "outputs": [
    {
     "data": {
      "text/plain": [
       "array(['1', '2', 'abs'], dtype='<U11')"
      ]
     },
     "execution_count": 8,
     "metadata": {},
     "output_type": "execute_result"
    }
   ],
   "source": [
    "np_lis2 = np.array(lis2)\n",
    "np_lis2"
   ]
  },
  {
   "cell_type": "markdown",
   "id": "a2a1e309",
   "metadata": {},
   "source": [
    "#### From tuples"
   ]
  },
  {
   "cell_type": "code",
   "execution_count": 9,
   "id": "de01c09e",
   "metadata": {},
   "outputs": [],
   "source": [
    "tup1 = ('1','2','abc')\n",
    "# tuples are immutable lists"
   ]
  },
  {
   "cell_type": "code",
   "execution_count": 10,
   "id": "823c6403",
   "metadata": {},
   "outputs": [
    {
     "data": {
      "text/plain": [
       "array(['1', '2', 'abc'], dtype='<U3')"
      ]
     },
     "execution_count": 10,
     "metadata": {},
     "output_type": "execute_result"
    }
   ],
   "source": [
    "np_tup = np.array(tup1)\n",
    "np_tup"
   ]
  },
  {
   "cell_type": "markdown",
   "id": "6223ebd9",
   "metadata": {},
   "source": [
    " #### Numpy array creation functions\n",
    " \n",
    " #### 1.  From arange function"
   ]
  },
  {
   "cell_type": "code",
   "execution_count": 12,
   "id": "9573652c",
   "metadata": {},
   "outputs": [
    {
     "data": {
      "text/plain": [
       "array([0, 1, 2, 3, 4, 5, 6, 7, 8, 9])"
      ]
     },
     "execution_count": 12,
     "metadata": {},
     "output_type": "execute_result"
    }
   ],
   "source": [
    "np_org1 = np.arange(10)\n",
    "np_org1"
   ]
  },
  {
   "cell_type": "code",
   "execution_count": 13,
   "id": "7067b414",
   "metadata": {},
   "outputs": [
    {
     "data": {
      "text/plain": [
       "array([100, 101, 102, 103, 104, 105, 106, 107, 108, 109, 110, 111, 112,\n",
       "       113, 114, 115, 116, 117, 118, 119, 120, 121, 122, 123, 124, 125,\n",
       "       126, 127, 128, 129, 130, 131, 132, 133, 134, 135, 136, 137, 138,\n",
       "       139, 140, 141, 142, 143, 144, 145, 146, 147, 148, 149])"
      ]
     },
     "execution_count": 13,
     "metadata": {},
     "output_type": "execute_result"
    }
   ],
   "source": [
    "np_org2 = np.arange(100,150)\n",
    "np_org2"
   ]
  },
  {
   "cell_type": "code",
   "execution_count": 14,
   "id": "74eb07a8",
   "metadata": {},
   "outputs": [
    {
     "data": {
      "text/plain": [
       "array([100, 102, 104, 106, 108, 110, 112, 114, 116, 118, 120, 122, 124,\n",
       "       126, 128, 130, 132, 134, 136, 138, 140, 142, 144, 146, 148, 150])"
      ]
     },
     "execution_count": 14,
     "metadata": {},
     "output_type": "execute_result"
    }
   ],
   "source": [
    "np_org3 = np.arange(100,151,2)\n",
    "np_org3\n",
    "\n",
    "# 2 represents step size, by default the step size is 1."
   ]
  },
  {
   "cell_type": "markdown",
   "id": "7ae99747",
   "metadata": {},
   "source": [
    "#### Arrays using linspace\n",
    "- It is used for creating floating numbers , that are equally placed\n",
    "- Here the third parameter specifies the number of elements\n"
   ]
  },
  {
   "cell_type": "code",
   "execution_count": 16,
   "id": "6db02b5e",
   "metadata": {},
   "outputs": [
    {
     "data": {
      "text/plain": [
       "array([10. , 12.5, 15. , 17.5, 20. ])"
      ]
     },
     "execution_count": 16,
     "metadata": {},
     "output_type": "execute_result"
    }
   ],
   "source": [
    " np_float = np.linspace(10,20,5) \n",
    "np_float\n",
    "\n",
    "# Here we get five floating numbers between 10 and 20\n",
    "# It is useful for creating distributions\n",
    "# here the last number is inclusive whereas in arange it is not."
   ]
  },
  {
   "cell_type": "markdown",
   "id": "47e28c36",
   "metadata": {},
   "source": [
    "#### Arrays using random.rand\n",
    "- It creates random floats\n",
    "- one argument , one dimentional arrays\n",
    "- two args, two dimemtional with rows and columns"
   ]
  },
  {
   "cell_type": "code",
   "execution_count": 17,
   "id": "da509964",
   "metadata": {},
   "outputs": [],
   "source": [
    "np_rand1 = np.random.rand(5)"
   ]
  },
  {
   "cell_type": "code",
   "execution_count": 18,
   "id": "a1117da4",
   "metadata": {},
   "outputs": [
    {
     "data": {
      "text/plain": [
       "array([0.02134945, 0.2405571 , 0.29367587, 0.99600645, 0.91807199])"
      ]
     },
     "execution_count": 18,
     "metadata": {},
     "output_type": "execute_result"
    }
   ],
   "source": [
    "np_rand1"
   ]
  },
  {
   "cell_type": "code",
   "execution_count": 19,
   "id": "23afc2be",
   "metadata": {},
   "outputs": [],
   "source": [
    "np_rand2 = np.random.rand(5,3)"
   ]
  },
  {
   "cell_type": "code",
   "execution_count": 20,
   "id": "fc9c038c",
   "metadata": {},
   "outputs": [
    {
     "data": {
      "text/plain": [
       "array([[0.76713478, 0.86907828, 0.85244575],\n",
       "       [0.31632024, 0.39507827, 0.27448394],\n",
       "       [0.49488945, 0.76666347, 0.66799738],\n",
       "       [0.99404063, 0.93334303, 0.80503453],\n",
       "       [0.74997491, 0.19228916, 0.78503565]])"
      ]
     },
     "execution_count": 20,
     "metadata": {},
     "output_type": "execute_result"
    }
   ],
   "source": [
    "np_rand2\n",
    "# here we 2-D array with 5 rows and 3 columns"
   ]
  },
  {
   "cell_type": "markdown",
   "id": "9e13a281",
   "metadata": {},
   "source": [
    "#### Arrays using random.randint\n",
    "- It creates random integers between starting and ending points, \n",
    "- The third arg is the number of elements required"
   ]
  },
  {
   "cell_type": "code",
   "execution_count": 21,
   "id": "783dabc8",
   "metadata": {},
   "outputs": [],
   "source": [
    "np_int = np.random.randint(0,100,5)"
   ]
  },
  {
   "cell_type": "code",
   "execution_count": 22,
   "id": "a7c378cd",
   "metadata": {},
   "outputs": [
    {
     "data": {
      "text/plain": [
       "array([86, 87, 74, 81, 31])"
      ]
     },
     "execution_count": 22,
     "metadata": {},
     "output_type": "execute_result"
    }
   ],
   "source": [
    "np_int\n",
    "# here we five random integers between 0 and 100"
   ]
  },
  {
   "cell_type": "code",
   "execution_count": null,
   "id": "8c1ef15e",
   "metadata": {},
   "outputs": [],
   "source": []
  },
  {
   "cell_type": "code",
   "execution_count": 23,
   "id": "fc1c73d2",
   "metadata": {},
   "outputs": [
    {
     "ename": "ValueError",
     "evalue": "low >= high",
     "output_type": "error",
     "traceback": [
      "\u001b[1;31m---------------------------------------------------------------------------\u001b[0m",
      "\u001b[1;31mValueError\u001b[0m                                Traceback (most recent call last)",
      "\u001b[1;32m<ipython-input-23-caafb8699cc5>\u001b[0m in \u001b[0;36m<module>\u001b[1;34m\u001b[0m\n\u001b[1;32m----> 1\u001b[1;33m \u001b[0mnp_int2\u001b[0m \u001b[1;33m=\u001b[0m \u001b[0mnp\u001b[0m\u001b[1;33m.\u001b[0m\u001b[0mrandom\u001b[0m\u001b[1;33m.\u001b[0m\u001b[0mrandint\u001b[0m\u001b[1;33m(\u001b[0m\u001b[1;36m20\u001b[0m\u001b[1;33m,\u001b[0m\u001b[1;36m4\u001b[0m\u001b[1;33m,\u001b[0m\u001b[1;36m6\u001b[0m\u001b[1;33m)\u001b[0m\u001b[1;33m\u001b[0m\u001b[1;33m\u001b[0m\u001b[0m\n\u001b[0m\u001b[0;32m      2\u001b[0m \u001b[0mnp_int2\u001b[0m\u001b[1;33m\u001b[0m\u001b[1;33m\u001b[0m\u001b[0m\n",
      "\u001b[1;32mmtrand.pyx\u001b[0m in \u001b[0;36mnumpy.random.mtrand.RandomState.randint\u001b[1;34m()\u001b[0m\n",
      "\u001b[1;32m_bounded_integers.pyx\u001b[0m in \u001b[0;36mnumpy.random._bounded_integers._rand_int32\u001b[1;34m()\u001b[0m\n",
      "\u001b[1;31mValueError\u001b[0m: low >= high"
     ]
    }
   ],
   "source": [
    "np_int2 = np.random.randint(20,4,6)\n",
    "# here the starting pt has to be lower than ending pt or upper limit"
   ]
  },
  {
   "cell_type": "markdown",
   "id": "6ad804da",
   "metadata": {},
   "source": [
    "#### Numpy zeros and ones\n",
    "- Here for creating two dimensional we need to pass the numbers in a tuple"
   ]
  },
  {
   "cell_type": "code",
   "execution_count": 25,
   "id": "81e70450",
   "metadata": {},
   "outputs": [
    {
     "data": {
      "text/plain": [
       "array([0., 0., 0., 0., 0.])"
      ]
     },
     "execution_count": 25,
     "metadata": {},
     "output_type": "execute_result"
    }
   ],
   "source": [
    "np_zeros = np.zeros(5)\n",
    "np_zeros"
   ]
  },
  {
   "cell_type": "code",
   "execution_count": 26,
   "id": "32924dac",
   "metadata": {},
   "outputs": [
    {
     "data": {
      "text/plain": [
       "array([[0., 0., 0., 0.],\n",
       "       [0., 0., 0., 0.]])"
      ]
     },
     "execution_count": 26,
     "metadata": {},
     "output_type": "execute_result"
    }
   ],
   "source": [
    "np_zeros2 = np.zeros((2,4))\n",
    "np_zeros2"
   ]
  },
  {
   "cell_type": "code",
   "execution_count": 27,
   "id": "8ea8b60f",
   "metadata": {},
   "outputs": [
    {
     "data": {
      "text/plain": [
       "array([[1, 1, 1],\n",
       "       [1, 1, 1]])"
      ]
     },
     "execution_count": 27,
     "metadata": {},
     "output_type": "execute_result"
    }
   ],
   "source": [
    "# Here we can also specify the data thype\n",
    "np_ones = np.ones((2,3), dtype = int)\n",
    "np_ones"
   ]
  },
  {
   "cell_type": "markdown",
   "id": "fcd14132",
   "metadata": {},
   "source": [
    "#### np.fill(),np.full(),np.empty()\n",
    "- empty() creates an empty array of the said datatype\n",
    "- fill() fills the empty array with the given contant value\n",
    "- fill() is for one dimensional constant arrays\n",
    "- full() can create multi dimensional arrays, there is no need for empty array creation\n",
    "    "
   ]
  },
  {
   "cell_type": "code",
   "execution_count": 28,
   "id": "1c7ae9f1",
   "metadata": {},
   "outputs": [
    {
     "data": {
      "text/plain": [
       "array([1561773696,        487,          0,          0,          1])"
      ]
     },
     "execution_count": 28,
     "metadata": {},
     "output_type": "execute_result"
    }
   ],
   "source": [
    "np_empty = np.empty(5,dtype=int)\n",
    "np_empty"
   ]
  },
  {
   "cell_type": "code",
   "execution_count": 29,
   "id": "3322fcd7",
   "metadata": {},
   "outputs": [],
   "source": [
    "np_empty.fill(13)"
   ]
  },
  {
   "cell_type": "code",
   "execution_count": 30,
   "id": "40cff9d4",
   "metadata": {},
   "outputs": [
    {
     "data": {
      "text/plain": [
       "array([13, 13, 13, 13, 13])"
      ]
     },
     "execution_count": 30,
     "metadata": {},
     "output_type": "execute_result"
    }
   ],
   "source": [
    "np_empty"
   ]
  },
  {
   "cell_type": "code",
   "execution_count": 31,
   "id": "f9fc2439",
   "metadata": {},
   "outputs": [
    {
     "data": {
      "text/plain": [
       "array(['', '', '', '', ''], dtype='<U1')"
      ]
     },
     "execution_count": 31,
     "metadata": {},
     "output_type": "execute_result"
    }
   ],
   "source": [
    "np_empty1 = np.empty(5,dtype='str')\n",
    "np_empty1"
   ]
  },
  {
   "cell_type": "code",
   "execution_count": 32,
   "id": "34c3e60e",
   "metadata": {},
   "outputs": [],
   "source": [
    "np_empty1.fill('Love')"
   ]
  },
  {
   "cell_type": "code",
   "execution_count": 33,
   "id": "7cc77abc",
   "metadata": {},
   "outputs": [
    {
     "data": {
      "text/plain": [
       "array(['L', 'L', 'L', 'L', 'L'], dtype='<U1')"
      ]
     },
     "execution_count": 33,
     "metadata": {},
     "output_type": "execute_result"
    }
   ],
   "source": [
    "np_empty1\n",
    "# it takes only the first letter"
   ]
  },
  {
   "cell_type": "code",
   "execution_count": 34,
   "id": "828674d0",
   "metadata": {},
   "outputs": [
    {
     "data": {
      "text/plain": [
       "array([42, 42, 42, 42, 42])"
      ]
     },
     "execution_count": 34,
     "metadata": {},
     "output_type": "execute_result"
    }
   ],
   "source": [
    "# np.full()\n",
    "np_full1 = np.full(5,42)\n",
    "np_full1\n",
    "\n",
    "# it creates an array with 5 elements and each equals 42"
   ]
  },
  {
   "cell_type": "code",
   "execution_count": 35,
   "id": "f53fc09b",
   "metadata": {},
   "outputs": [
    {
     "data": {
      "text/plain": [
       "array([[16, 16, 16, 16, 16],\n",
       "       [16, 16, 16, 16, 16]])"
      ]
     },
     "execution_count": 35,
     "metadata": {},
     "output_type": "execute_result"
    }
   ],
   "source": [
    "np_full2d = np.full((2,5),16)\n",
    "np_full2d\n",
    "\n",
    "# you get 2D array with 2 rows and 5 columns"
   ]
  },
  {
   "cell_type": "markdown",
   "id": "94b3015e",
   "metadata": {},
   "source": [
    "#### Array insertion, deletion, and sorting"
   ]
  },
  {
   "cell_type": "code",
   "execution_count": 3,
   "id": "11996a90",
   "metadata": {},
   "outputs": [
    {
     "data": {
      "text/plain": [
       "array([1, 2, 3, 4, 5])"
      ]
     },
     "execution_count": 3,
     "metadata": {},
     "output_type": "execute_result"
    }
   ],
   "source": [
    "# np.insert(array_name,index position,value)\n",
    "\n",
    "np_ins = np.array([1,2,3,5])\n",
    "np_ins = np.insert(np_ins,3,4)  # you need to assign it to the variable\n",
    "np_ins\n",
    "\n",
    "# at the third index position you insert the element 4\n"
   ]
  },
  {
   "cell_type": "code",
   "execution_count": 4,
   "id": "5d7edb5e",
   "metadata": {},
   "outputs": [
    {
     "data": {
      "text/plain": [
       "array([1, 2, 3, 4, 5, 6])"
      ]
     },
     "execution_count": 4,
     "metadata": {},
     "output_type": "execute_result"
    }
   ],
   "source": [
    "# np.append(array_name,value)\n",
    "# always inserts at the end\n",
    "np_ins = np.append(np_ins,6)\n",
    "np_ins"
   ]
  },
  {
   "cell_type": "code",
   "execution_count": 5,
   "id": "4e7c8f9c",
   "metadata": {},
   "outputs": [
    {
     "data": {
      "text/plain": [
       "array([1, 2, 3, 4, 5])"
      ]
     },
     "execution_count": 5,
     "metadata": {},
     "output_type": "execute_result"
    }
   ],
   "source": [
    "#np.delete(array_name,index psition)\n",
    "np_ins = np.delete(np_ins,5)\n",
    "np_ins"
   ]
  },
  {
   "cell_type": "markdown",
   "id": "9fdabab6",
   "metadata": {},
   "source": [
    "#### Copies and views\n",
    "- Copies using .copy() changes address location\n",
    "- direct assignment gives an another view of the same variable, changes made in one, reflects in another.\n",
    "- id(array_name) gives the address location of the array"
   ]
  },
  {
   "cell_type": "code",
   "execution_count": 6,
   "id": "27cfd13e",
   "metadata": {},
   "outputs": [],
   "source": [
    "arr_1 = np.array([1,2,3,4])\n",
    "arr_2 = arr_1"
   ]
  },
  {
   "cell_type": "code",
   "execution_count": 7,
   "id": "538010f9",
   "metadata": {},
   "outputs": [
    {
     "name": "stdout",
     "output_type": "stream",
     "text": [
      "2507837362416\n",
      "2507837362416\n"
     ]
    }
   ],
   "source": [
    "print(id(arr_1))\n",
    "print(id(arr_2))\n",
    "# both have same ids"
   ]
  },
  {
   "cell_type": "code",
   "execution_count": 12,
   "id": "7ce34e4d",
   "metadata": {},
   "outputs": [],
   "source": [
    "arr_2[0] = 0"
   ]
  },
  {
   "cell_type": "code",
   "execution_count": 13,
   "id": "5e64a15c",
   "metadata": {},
   "outputs": [
    {
     "data": {
      "text/plain": [
       "array([0, 2, 3, 4])"
      ]
     },
     "execution_count": 13,
     "metadata": {},
     "output_type": "execute_result"
    }
   ],
   "source": [
    "arr_1\n",
    "# changes in one, reflects in the other"
   ]
  },
  {
   "cell_type": "code",
   "execution_count": 14,
   "id": "f9b15def",
   "metadata": {},
   "outputs": [
    {
     "data": {
      "text/plain": [
       "array([0, 2, 3, 4])"
      ]
     },
     "execution_count": 14,
     "metadata": {},
     "output_type": "execute_result"
    }
   ],
   "source": [
    "arr_2"
   ]
  },
  {
   "cell_type": "code",
   "execution_count": 16,
   "id": "beed9298",
   "metadata": {},
   "outputs": [
    {
     "data": {
      "text/plain": [
       "array([1, 2, 3, 4])"
      ]
     },
     "execution_count": 16,
     "metadata": {},
     "output_type": "execute_result"
    }
   ],
   "source": [
    "arr_3 = arr_1.copy()\n",
    "arr_3[0] = 1\n",
    "arr_3\n",
    "# here the arr_1 will not be affected"
   ]
  },
  {
   "cell_type": "code",
   "execution_count": 17,
   "id": "a5a386b6",
   "metadata": {},
   "outputs": [
    {
     "data": {
      "text/plain": [
       "array([0, 2, 3, 4])"
      ]
     },
     "execution_count": 17,
     "metadata": {},
     "output_type": "execute_result"
    }
   ],
   "source": [
    "arr_1"
   ]
  },
  {
   "cell_type": "code",
   "execution_count": 18,
   "id": "68cb6748",
   "metadata": {},
   "outputs": [],
   "source": [
    "# using .view() is similar to assignment operation, changes are reflected."
   ]
  },
  {
   "cell_type": "markdown",
   "id": "ca74c905",
   "metadata": {},
   "source": [
    "#### Array Reshape\n",
    "- changes the dimension\n",
    "- np.reshape(arr_name,(n,m)) or (n,m,o) depending on the dimension required\n",
    "- np.reshape(arr_name, -1) flattens or convers any array to one dimensional array"
   ]
  },
  {
   "cell_type": "code",
   "execution_count": 19,
   "id": "01de80e0",
   "metadata": {},
   "outputs": [
    {
     "data": {
      "text/plain": [
       "array([[1, 2],\n",
       "       [3, 4]])"
      ]
     },
     "execution_count": 19,
     "metadata": {},
     "output_type": "execute_result"
    }
   ],
   "source": [
    "np_res = np.array([[1,2],[3,4]])\n",
    "np_res"
   ]
  },
  {
   "cell_type": "code",
   "execution_count": 20,
   "id": "19d5285d",
   "metadata": {},
   "outputs": [
    {
     "data": {
      "text/plain": [
       "array([1, 2, 3, 4])"
      ]
     },
     "execution_count": 20,
     "metadata": {},
     "output_type": "execute_result"
    }
   ],
   "source": [
    "np_flat = np.reshape(np_res,-1)\n",
    "np_flat"
   ]
  },
  {
   "cell_type": "code",
   "execution_count": 21,
   "id": "a1f5cf11",
   "metadata": {},
   "outputs": [],
   "source": [
    "# we have two more functions flatten and ravel for converting to one dimensions\n",
    "#ravel is more memory efficient, but it can affect the original array."
   ]
  },
  {
   "cell_type": "code",
   "execution_count": 22,
   "id": "dc5bc4fc",
   "metadata": {},
   "outputs": [
    {
     "data": {
      "text/plain": [
       "array([[1, 2],\n",
       "       [3, 4]])"
      ]
     },
     "execution_count": 22,
     "metadata": {},
     "output_type": "execute_result"
    }
   ],
   "source": [
    "np_res"
   ]
  },
  {
   "cell_type": "code",
   "execution_count": 23,
   "id": "33983a10",
   "metadata": {},
   "outputs": [
    {
     "data": {
      "text/plain": [
       "4"
      ]
     },
     "execution_count": 23,
     "metadata": {},
     "output_type": "execute_result"
    }
   ],
   "source": [
    "np_res[-1,-1]\n",
    "# gives last element of the array"
   ]
  },
  {
   "cell_type": "code",
   "execution_count": null,
   "id": "458e22e0",
   "metadata": {},
   "outputs": [],
   "source": []
  }
 ],
 "metadata": {
  "kernelspec": {
   "display_name": "Python 3",
   "language": "python",
   "name": "python3"
  },
  "language_info": {
   "codemirror_mode": {
    "name": "ipython",
    "version": 3
   },
   "file_extension": ".py",
   "mimetype": "text/x-python",
   "name": "python",
   "nbconvert_exporter": "python",
   "pygments_lexer": "ipython3",
   "version": "3.8.8"
  }
 },
 "nbformat": 4,
 "nbformat_minor": 5
}
