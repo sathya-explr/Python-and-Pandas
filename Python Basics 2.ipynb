{
 "cells": [
  {
   "cell_type": "markdown",
   "id": "27be00f2",
   "metadata": {},
   "source": [
    "#### Getting user input with the input()"
   ]
  },
  {
   "cell_type": "code",
   "execution_count": 1,
   "id": "b0630770",
   "metadata": {},
   "outputs": [
    {
     "name": "stdout",
     "output_type": "stream",
     "text": [
      "What is the secret?abc\n",
      "What is the secret?123\n",
      "What is the secret?password\n"
     ]
    }
   ],
   "source": [
    "secret = 'password'\n",
    "pw = ''\n",
    "\n",
    "while pw != secret:\n",
    "    pw = input('What is the secret?')\n",
    "\n",
    "# Here the loop will end only when     "
   ]
  },
  {
   "cell_type": "markdown",
   "id": "67bdb98f",
   "metadata": {},
   "source": [
    "#### Functions Basics"
   ]
  },
  {
   "cell_type": "code",
   "execution_count": 1,
   "id": "0138b11b",
   "metadata": {},
   "outputs": [
    {
     "name": "stdout",
     "output_type": "stream",
     "text": [
      "Meaow!\n"
     ]
    }
   ],
   "source": [
    "def main():\n",
    "    kitten()\n",
    "    \n",
    "def kitten():\n",
    "    print('Meaow!')\n",
    "    \n",
    "if __name__ == '__main__': main()"
   ]
  },
  {
   "cell_type": "markdown",
   "id": "6704724a",
   "metadata": {},
   "source": [
    "Explanation\n",
    "\n",
    "- The last line is if satatement\n",
    "- __name__ is special variable, it returns the name of the current module\n",
    "- if the functions comes with many argumets in form of tuples and lists, in the definition you can use *args\n",
    "- if the function has dictionary as argument, then we use **kwargs "
   ]
  },
  {
   "cell_type": "code",
   "execution_count": 2,
   "id": "2ed8850c",
   "metadata": {},
   "outputs": [
    {
     "name": "stdout",
     "output_type": "stream",
     "text": [
      "Kitten Buffy says meow\n",
      "Kitten Zilla says grr\n",
      "Kitten Angel says rawr\n"
     ]
    }
   ],
   "source": [
    "# keyword arguments\n",
    "\n",
    "def main():\n",
    "    # x = dict(Buffy = 'meow', Zilla = 'grr', Angel = 'rawr')\n",
    "    # kitten(**x)\n",
    "    kitten(Buffy = 'meow', Zilla = 'grr', Angel = 'rawr')\n",
    "\n",
    "def kitten(**kwargs):\n",
    "    if len(kwargs):\n",
    "        for k in kwargs:\n",
    "            print('Kitten {} says {}'.format(k, kwargs[k]))\n",
    "    else: print('Meow.')\n",
    "\n",
    "if __name__ == '__main__': main()"
   ]
  },
  {
   "cell_type": "markdown",
   "id": "7f284063",
   "metadata": {},
   "source": [
    "#### Structured Data\n",
    "\n",
    "#### Lists"
   ]
  },
  {
   "cell_type": "code",
   "execution_count": 3,
   "id": "1c569ac1",
   "metadata": {},
   "outputs": [],
   "source": [
    "# Lists\n",
    "game = ['rock','paper','scissor']"
   ]
  },
  {
   "cell_type": "code",
   "execution_count": 4,
   "id": "1e0b8880",
   "metadata": {},
   "outputs": [
    {
     "data": {
      "text/plain": [
       "['rock', 'paper', 'scissor', 'out']"
      ]
     },
     "execution_count": 4,
     "metadata": {},
     "output_type": "execute_result"
    }
   ],
   "source": [
    "# inserting at the end of list\n",
    "game.append('out')\n",
    "game"
   ]
  },
  {
   "cell_type": "code",
   "execution_count": 5,
   "id": "a26d28c4",
   "metadata": {},
   "outputs": [
    {
     "data": {
      "text/plain": [
       "['in', 'rock', 'paper', 'scissor', 'out']"
      ]
     },
     "execution_count": 5,
     "metadata": {},
     "output_type": "execute_result"
    }
   ],
   "source": [
    "# inserting at the a specific position\n",
    "game.insert(0,'in')\n",
    "game"
   ]
  },
  {
   "cell_type": "code",
   "execution_count": 6,
   "id": "f1e99cdb",
   "metadata": {},
   "outputs": [
    {
     "data": {
      "text/plain": [
       "['in', 'rock', 'paper', 'scissor']"
      ]
     },
     "execution_count": 6,
     "metadata": {},
     "output_type": "execute_result"
    }
   ],
   "source": [
    "# remove item by value\n",
    "game.remove('out')\n",
    "game"
   ]
  },
  {
   "cell_type": "code",
   "execution_count": 7,
   "id": "e539e829",
   "metadata": {},
   "outputs": [
    {
     "data": {
      "text/plain": [
       "'out'"
      ]
     },
     "execution_count": 7,
     "metadata": {},
     "output_type": "execute_result"
    }
   ],
   "source": [
    "# using pop to remove an item at end\n",
    "game.append('out')\n",
    "x = game.pop()\n",
    "x\n",
    "\n",
    "# pop also returns the element that is removed"
   ]
  },
  {
   "cell_type": "code",
   "execution_count": 8,
   "id": "bd9b1b81",
   "metadata": {},
   "outputs": [
    {
     "data": {
      "text/plain": [
       "'in'"
      ]
     },
     "execution_count": 8,
     "metadata": {},
     "output_type": "execute_result"
    }
   ],
   "source": [
    "# use pop to remove item at specified index position\n",
    "x = game.pop(0)\n",
    "x\n"
   ]
  },
  {
   "cell_type": "code",
   "execution_count": 9,
   "id": "f549e28c",
   "metadata": {},
   "outputs": [
    {
     "data": {
      "text/plain": [
       "['rock', 'paper', 'scissor']"
      ]
     },
     "execution_count": 9,
     "metadata": {},
     "output_type": "execute_result"
    }
   ],
   "source": [
    "game"
   ]
  },
  {
   "cell_type": "code",
   "execution_count": 10,
   "id": "1283c146",
   "metadata": {},
   "outputs": [],
   "source": [
    "# another method used for removing element from list is del\n",
    "lis1 = [1.2,2.3,1.4,1.5,1.6,1.8]\n",
    "del lis1[0]"
   ]
  },
  {
   "cell_type": "code",
   "execution_count": 11,
   "id": "7026e97e",
   "metadata": {},
   "outputs": [
    {
     "data": {
      "text/plain": [
       "[2.3, 1.4, 1.5, 1.6, 1.8]"
      ]
     },
     "execution_count": 11,
     "metadata": {},
     "output_type": "execute_result"
    }
   ],
   "source": [
    "lis1"
   ]
  },
  {
   "cell_type": "code",
   "execution_count": 43,
   "id": "d17fc6f3",
   "metadata": {},
   "outputs": [
    {
     "data": {
      "text/plain": [
       "[2.3, 1.4]"
      ]
     },
     "execution_count": 43,
     "metadata": {},
     "output_type": "execute_result"
    }
   ],
   "source": [
    "# we can also use slicing while deleting\n",
    "del lis1[2:4]\n",
    "lis1\n",
    "\n",
    "# here elements at 2,3 positions are removed."
   ]
  },
  {
   "cell_type": "markdown",
   "id": "faa003fa",
   "metadata": {},
   "source": [
    "#### List comprehension \n",
    "- getting a new sequence object from existing list/sequence object"
   ]
  },
  {
   "cell_type": "code",
   "execution_count": 49,
   "id": "6351a4e3",
   "metadata": {},
   "outputs": [
    {
     "name": "stdout",
     "output_type": "stream",
     "text": [
      "range(0, 6)\n"
     ]
    }
   ],
   "source": [
    "x = range(6)\n",
    "x\n",
    "print(x)"
   ]
  },
  {
   "cell_type": "code",
   "execution_count": 51,
   "id": "c698beb7",
   "metadata": {},
   "outputs": [
    {
     "data": {
      "text/plain": [
       "[0, 2, 4, 6, 8, 10]"
      ]
     },
     "execution_count": 51,
     "metadata": {},
     "output_type": "execute_result"
    }
   ],
   "source": [
    "# here we get list from the range obj\n",
    "y = [i*2 for i in x]\n",
    "y\n"
   ]
  },
  {
   "cell_type": "code",
   "execution_count": 56,
   "id": "0acd0727",
   "metadata": {},
   "outputs": [
    {
     "data": {
      "text/plain": [
       "[0, 2, 4]"
      ]
     },
     "execution_count": 56,
     "metadata": {},
     "output_type": "execute_result"
    }
   ],
   "source": [
    "# another example to get elements in range that are even\n",
    "y = [i for i in x if i % 2 == 0]\n",
    "y\n",
    "\n",
    "# note the use of one line code format"
   ]
  },
  {
   "cell_type": "code",
   "execution_count": 57,
   "id": "3cb8aa9d",
   "metadata": {},
   "outputs": [
    {
     "data": {
      "text/plain": [
       "{0: 0, 1: 2, 2: 4, 3: 6, 4: 8, 5: 10}"
      ]
     },
     "execution_count": 57,
     "metadata": {},
     "output_type": "execute_result"
    }
   ],
   "source": [
    "# creating a dictionary with the range object\n",
    "d_obj = {i:i*2 for i in x}\n",
    "d_obj"
   ]
  },
  {
   "cell_type": "markdown",
   "id": "ea79b413",
   "metadata": {},
   "source": [
    "#### Dictionaries"
   ]
  },
  {
   "cell_type": "code",
   "execution_count": 18,
   "id": "9046d3c0",
   "metadata": {},
   "outputs": [],
   "source": [
    " x = dict(kitty = 'meow', Zilla = 'grr', Angel = 'rawr')"
   ]
  },
  {
   "cell_type": "code",
   "execution_count": 21,
   "id": "ed781029",
   "metadata": {},
   "outputs": [
    {
     "data": {
      "text/plain": [
       "{'kitty': 'meow', 'Zilla': 'grr', 'Angel': 'rawr'}"
      ]
     },
     "execution_count": 21,
     "metadata": {},
     "output_type": "execute_result"
    }
   ],
   "source": [
    "x"
   ]
  },
  {
   "cell_type": "markdown",
   "id": "587761b9",
   "metadata": {},
   "source": [
    "#### 1. looping through dictionary using items()"
   ]
  },
  {
   "cell_type": "code",
   "execution_count": 23,
   "id": "f0af5907",
   "metadata": {},
   "outputs": [
    {
     "name": "stdout",
     "output_type": "stream",
     "text": [
      "kitty : meow\n",
      "Zilla : grr\n",
      "Angel : rawr\n"
     ]
    }
   ],
   "source": [
    "for k, v in x.items(): \n",
    "    print(f'{k} : {v}')\n",
    "   "
   ]
  },
  {
   "cell_type": "markdown",
   "id": "716ec299",
   "metadata": {},
   "source": [
    "#### 2. Use .keys() or .values() to get only either of them respectively"
   ]
  },
  {
   "cell_type": "code",
   "execution_count": 24,
   "id": "f82aa672",
   "metadata": {},
   "outputs": [
    {
     "name": "stdout",
     "output_type": "stream",
     "text": [
      "kitty\n",
      "Zilla\n",
      "Angel\n"
     ]
    }
   ],
   "source": [
    "for k in x.keys(): print(k)"
   ]
  },
  {
   "cell_type": "markdown",
   "id": "5a0183e6",
   "metadata": {},
   "source": [
    "#### 3. Dictionary index is its keys. \n",
    "- You can use it to get the value\n",
    "- Change the value\n",
    "- add new element"
   ]
  },
  {
   "cell_type": "code",
   "execution_count": 25,
   "id": "87b78c0c",
   "metadata": {},
   "outputs": [
    {
     "data": {
      "text/plain": [
       "'meow'"
      ]
     },
     "execution_count": 25,
     "metadata": {},
     "output_type": "execute_result"
    }
   ],
   "source": [
    "x['kitty']"
   ]
  },
  {
   "cell_type": "code",
   "execution_count": 26,
   "id": "7717a050",
   "metadata": {},
   "outputs": [],
   "source": [
    "# changing value\n",
    "x['Angel'] = 'divine'"
   ]
  },
  {
   "cell_type": "code",
   "execution_count": 27,
   "id": "f28e8050",
   "metadata": {},
   "outputs": [
    {
     "data": {
      "text/plain": [
       "{'kitty': 'meow', 'Zilla': 'grr', 'Angel': 'divine', 'dino': 'rawr'}"
      ]
     },
     "execution_count": 27,
     "metadata": {},
     "output_type": "execute_result"
    }
   ],
   "source": [
    "# Adding new element\n",
    "x['dino'] = 'rawr'\n",
    "x"
   ]
  },
  {
   "cell_type": "code",
   "execution_count": 29,
   "id": "87e65206",
   "metadata": {},
   "outputs": [
    {
     "name": "stdout",
     "output_type": "stream",
     "text": [
      "found\n"
     ]
    }
   ],
   "source": [
    "# use in operator to check is key exists\n",
    "print('found' if 'dino' in x else 'not found')\n",
    "\n",
    "# note the usage of if stmt"
   ]
  },
  {
   "cell_type": "markdown",
   "id": "accac7fd",
   "metadata": {},
   "source": [
    "#### 4. Use .get() to check if key exists in the dictionary\n",
    "- if the key is not there, the method returns a None\n",
    "- it helps in avoiding key error "
   ]
  },
  {
   "cell_type": "code",
   "execution_count": 30,
   "id": "798e0fa9",
   "metadata": {},
   "outputs": [
    {
     "data": {
      "text/plain": [
       "'rawr'"
      ]
     },
     "execution_count": 30,
     "metadata": {},
     "output_type": "execute_result"
    }
   ],
   "source": [
    "# key present, you get its value\n",
    "x.get('dino')"
   ]
  },
  {
   "cell_type": "code",
   "execution_count": 35,
   "id": "e87c1343",
   "metadata": {},
   "outputs": [
    {
     "name": "stdout",
     "output_type": "stream",
     "text": [
      "None\n"
     ]
    }
   ],
   "source": [
    "# key not present, you get none\n",
    "print(x.get('dragon'))\n",
    "\n",
    "# here we use print so as to have the output as None, or else you don't have any o/p "
   ]
  },
  {
   "cell_type": "markdown",
   "id": "9a9ea66f",
   "metadata": {},
   "source": [
    "#### Set\n",
    "- Set have only unique elements, no duplicates\n",
    "- The elements are unordered\n",
    "- It is useful for finding unique elemets of string or list/tuple\n",
    "- It is possible to do logical operations  \n",
    "- You can sort them using sorted() function"
   ]
  },
  {
   "cell_type": "code",
   "execution_count": 37,
   "id": "5454552c",
   "metadata": {},
   "outputs": [],
   "source": [
    "a = set('The Sun rises in the east')\n",
    "b = set('The Sun sets in the west')"
   ]
  },
  {
   "cell_type": "code",
   "execution_count": 38,
   "id": "842ecae5",
   "metadata": {},
   "outputs": [
    {
     "name": "stdout",
     "output_type": "stream",
     "text": [
      "{'s', 'h', 'a', ' ', 'T', 'n', 'e', 'i', 'S', 't', 'u', 'r'}\n"
     ]
    }
   ],
   "source": [
    "print(a)"
   ]
  },
  {
   "cell_type": "code",
   "execution_count": 39,
   "id": "c494f840",
   "metadata": {},
   "outputs": [
    {
     "name": "stdout",
     "output_type": "stream",
     "text": [
      "{'s', 'h', ' ', 'T', 'n', 'e', 'i', 'S', 't', 'w', 'u'}\n"
     ]
    }
   ],
   "source": [
    "print(b)"
   ]
  },
  {
   "cell_type": "code",
   "execution_count": 40,
   "id": "54709e84",
   "metadata": {},
   "outputs": [
    {
     "name": "stdout",
     "output_type": "stream",
     "text": [
      "{'a', 'r'}\n"
     ]
    }
   ],
   "source": [
    "print(a-b)\n",
    "# elements present in a alone"
   ]
  },
  {
   "cell_type": "code",
   "execution_count": 42,
   "id": "51a224bc",
   "metadata": {},
   "outputs": [
    {
     "name": "stdout",
     "output_type": "stream",
     "text": [
      "[' ', 'S', 'T', 'a', 'e', 'h', 'i', 'n', 'r', 's', 't', 'u']\n"
     ]
    }
   ],
   "source": [
    "print(sorted(a))"
   ]
  },
  {
   "cell_type": "code",
   "execution_count": null,
   "id": "7bc00534",
   "metadata": {},
   "outputs": [],
   "source": []
  }
 ],
 "metadata": {
  "kernelspec": {
   "display_name": "Python 3",
   "language": "python",
   "name": "python3"
  },
  "language_info": {
   "codemirror_mode": {
    "name": "ipython",
    "version": 3
   },
   "file_extension": ".py",
   "mimetype": "text/x-python",
   "name": "python",
   "nbconvert_exporter": "python",
   "pygments_lexer": "ipython3",
   "version": "3.8.8"
  }
 },
 "nbformat": 4,
 "nbformat_minor": 5
}
