{
 "cells": [
  {
   "cell_type": "code",
   "execution_count": 1,
   "id": "78980035",
   "metadata": {},
   "outputs": [],
   "source": [
    "some_num = [2,4,6,8]"
   ]
  },
  {
   "cell_type": "code",
   "execution_count": 2,
   "id": "88861087",
   "metadata": {},
   "outputs": [],
   "source": [
    "double = map(lambda x: x+x, some_num)"
   ]
  },
  {
   "cell_type": "code",
   "execution_count": 4,
   "id": "fbde844c",
   "metadata": {},
   "outputs": [
    {
     "data": {
      "text/plain": [
       "<map at 0x1cacc906940>"
      ]
     },
     "execution_count": 4,
     "metadata": {},
     "output_type": "execute_result"
    }
   ],
   "source": [
    "double"
   ]
  },
  {
   "cell_type": "code",
   "execution_count": 7,
   "id": "08b6b529",
   "metadata": {},
   "outputs": [
    {
     "data": {
      "text/plain": [
       "[4, 8, 12, 16]"
      ]
     },
     "execution_count": 7,
     "metadata": {},
     "output_type": "execute_result"
    }
   ],
   "source": [
    "list(double)"
   ]
  },
  {
   "cell_type": "code",
   "execution_count": 8,
   "id": "733d8cb2",
   "metadata": {},
   "outputs": [],
   "source": [
    "# str.upper() and str.capitalize() for upper letter capitalization"
   ]
  },
  {
   "cell_type": "code",
   "execution_count": 9,
   "id": "6a45554b",
   "metadata": {},
   "outputs": [],
   "source": [
    "ls = [1,2,3,4,5,6]"
   ]
  },
  {
   "cell_type": "code",
   "execution_count": 10,
   "id": "7a38ef6e",
   "metadata": {},
   "outputs": [],
   "source": [
    "# sorted() doesn't affect ls"
   ]
  },
  {
   "cell_type": "code",
   "execution_count": 11,
   "id": "c642a3d5",
   "metadata": {},
   "outputs": [
    {
     "data": {
      "text/plain": [
       "[1, 2, 3, 4, 5, 6]"
      ]
     },
     "execution_count": 11,
     "metadata": {},
     "output_type": "execute_result"
    }
   ],
   "source": [
    "sorted(ls)"
   ]
  },
  {
   "cell_type": "code",
   "execution_count": 12,
   "id": "e049e7aa",
   "metadata": {},
   "outputs": [],
   "source": [
    "# sort() affects the original list\n",
    "ls.sort()"
   ]
  },
  {
   "cell_type": "code",
   "execution_count": 13,
   "id": "db5d3d4e",
   "metadata": {},
   "outputs": [
    {
     "data": {
      "text/plain": [
       "[1, 2, 3, 4, 5, 6]"
      ]
     },
     "execution_count": 13,
     "metadata": {},
     "output_type": "execute_result"
    }
   ],
   "source": [
    "ls"
   ]
  },
  {
   "cell_type": "code",
   "execution_count": 14,
   "id": "8ac74cdb",
   "metadata": {},
   "outputs": [],
   "source": [
    "ls.sort(reverse=True)"
   ]
  },
  {
   "cell_type": "code",
   "execution_count": 15,
   "id": "222dc5b9",
   "metadata": {},
   "outputs": [
    {
     "data": {
      "text/plain": [
       "[6, 5, 4, 3, 2, 1]"
      ]
     },
     "execution_count": 15,
     "metadata": {},
     "output_type": "execute_result"
    }
   ],
   "source": [
    "ls"
   ]
  },
  {
   "cell_type": "code",
   "execution_count": 21,
   "id": "096fc44e",
   "metadata": {},
   "outputs": [],
   "source": [
    "ts = [('9A',49),('9B',35),('9D', 41)]"
   ]
  },
  {
   "cell_type": "code",
   "execution_count": 22,
   "id": "3bfa1307",
   "metadata": {},
   "outputs": [],
   "source": [
    "ts.sort(key= lambda x:x[1])\n",
    "\n",
    "# with key parameter we can change the alteration order"
   ]
  },
  {
   "cell_type": "code",
   "execution_count": 23,
   "id": "d66aa148",
   "metadata": {},
   "outputs": [
    {
     "data": {
      "text/plain": [
       "[('9B', 35), ('9D', 41), ('9A', 49)]"
      ]
     },
     "execution_count": 23,
     "metadata": {},
     "output_type": "execute_result"
    }
   ],
   "source": [
    "ts"
   ]
  },
  {
   "cell_type": "code",
   "execution_count": 24,
   "id": "bd755daa",
   "metadata": {},
   "outputs": [],
   "source": [
    "ts.sort(key= lambda x:x[1], reverse = True)"
   ]
  },
  {
   "cell_type": "code",
   "execution_count": 25,
   "id": "fa98bc9d",
   "metadata": {},
   "outputs": [
    {
     "data": {
      "text/plain": [
       "[('9A', 49), ('9D', 41), ('9B', 35)]"
      ]
     },
     "execution_count": 25,
     "metadata": {},
     "output_type": "execute_result"
    }
   ],
   "source": [
    "ts"
   ]
  },
  {
   "cell_type": "code",
   "execution_count": 32,
   "id": "cb957466",
   "metadata": {},
   "outputs": [],
   "source": [
    "attd = [1,2,3,12,13,15,20]\n",
    "dd_score = map(lambda x: x>10,attd)\n",
    "# for string values use len(x)"
   ]
  },
  {
   "cell_type": "code",
   "execution_count": 33,
   "id": "96f895c7",
   "metadata": {},
   "outputs": [
    {
     "data": {
      "text/plain": [
       "<map at 0x1cacc9f8040>"
      ]
     },
     "execution_count": 33,
     "metadata": {},
     "output_type": "execute_result"
    }
   ],
   "source": [
    "dd_score"
   ]
  },
  {
   "cell_type": "code",
   "execution_count": 34,
   "id": "5b8be496",
   "metadata": {},
   "outputs": [
    {
     "data": {
      "text/plain": [
       "[False, False, False, True, True, True, True]"
      ]
     },
     "execution_count": 34,
     "metadata": {},
     "output_type": "execute_result"
    }
   ],
   "source": [
    "list(dd_score)"
   ]
  },
  {
   "cell_type": "code",
   "execution_count": 35,
   "id": "3f40a9af",
   "metadata": {},
   "outputs": [],
   "source": [
    "dd_score = filter(lambda x: x>10,attd)\n",
    "# map gives exact value of the evaluation. filter selects the true values"
   ]
  },
  {
   "cell_type": "code",
   "execution_count": 36,
   "id": "a7232f38",
   "metadata": {},
   "outputs": [
    {
     "data": {
      "text/plain": [
       "[12, 13, 15, 20]"
      ]
     },
     "execution_count": 36,
     "metadata": {},
     "output_type": "execute_result"
    }
   ],
   "source": [
    "list(dd_score)"
   ]
  },
  {
   "cell_type": "code",
   "execution_count": 37,
   "id": "32717040",
   "metadata": {},
   "outputs": [],
   "source": [
    "# sort, map, filter give a list of values\n",
    "# reduce returns a single value\n",
    "# we need to import reduce from functools module"
   ]
  },
  {
   "cell_type": "code",
   "execution_count": 38,
   "id": "a21e8589",
   "metadata": {},
   "outputs": [],
   "source": [
    "from functools import reduce"
   ]
  },
  {
   "cell_type": "code",
   "execution_count": 39,
   "id": "6153cefd",
   "metadata": {},
   "outputs": [],
   "source": [
    "# it can be used for finding sum of values of list\n",
    "nums = [10,22,34,42,67]\n",
    "sum_of_nums = reduce(lambda x,y: x+y, nums)"
   ]
  },
  {
   "cell_type": "code",
   "execution_count": 40,
   "id": "bcbb719e",
   "metadata": {},
   "outputs": [
    {
     "data": {
      "text/plain": [
       "175"
      ]
     },
     "execution_count": 40,
     "metadata": {},
     "output_type": "execute_result"
    }
   ],
   "source": [
    "# instead of x+y, we can use max(), min(), etc.\n",
    "sum_of_nums"
   ]
  },
  {
   "cell_type": "code",
   "execution_count": 41,
   "id": "bc42f665",
   "metadata": {},
   "outputs": [],
   "source": [
    "# if else in lambda\n",
    "# we need to read it as x, if x > 65.\n",
    "grt_65 = reduce(lambda x,y: x if x>65 else y, nums)"
   ]
  },
  {
   "cell_type": "code",
   "execution_count": 42,
   "id": "0129a192",
   "metadata": {},
   "outputs": [
    {
     "data": {
      "text/plain": [
       "67"
      ]
     },
     "execution_count": 42,
     "metadata": {},
     "output_type": "execute_result"
    }
   ],
   "source": [
    "grt_65"
   ]
  },
  {
   "cell_type": "code",
   "execution_count": 61,
   "id": "10e20274",
   "metadata": {},
   "outputs": [],
   "source": [
    "# changing nested list/tuple values based on condition\n",
    "n_list = [[1,22],[2, 33 ],[3,40]]\n",
    "cut_off = 35\n",
    "mod_list = map(lambda x: x[1] if x[1]>cut_off else x[1] + 2,n_list)\n",
    "\n",
    "# grace marks calculation"
   ]
  },
  {
   "cell_type": "code",
   "execution_count": 62,
   "id": "27bfe4de",
   "metadata": {},
   "outputs": [],
   "source": [
    " new_marks = list(mod_list)"
   ]
  },
  {
   "cell_type": "code",
   "execution_count": 71,
   "id": "f0e81d25",
   "metadata": {},
   "outputs": [],
   "source": [
    "for i in range(len(new_marks)):\n",
    "    n_list[i][1] = new_marks[i]\n",
    "    \n",
    "     \n",
    "  # updating the list with grace marks.  "
   ]
  },
  {
   "cell_type": "code",
   "execution_count": 72,
   "id": "fcada6d3",
   "metadata": {},
   "outputs": [
    {
     "data": {
      "text/plain": [
       "[[1, 24], [2, 35], [3, 40]]"
      ]
     },
     "execution_count": 72,
     "metadata": {},
     "output_type": "execute_result"
    }
   ],
   "source": [
    "n_list"
   ]
  },
  {
   "cell_type": "code",
   "execution_count": 74,
   "id": "72466f83",
   "metadata": {},
   "outputs": [],
   "source": [
    "# lambda on list of dictionary\n",
    "sales = [{'Country': 'USA', 'sale':202.5},{'Country': 'India','sale':809.2},{'Country':'China','sale':998.4}]\n",
    "\n",
    "# segregating countries\n",
    "countries = map(lambda x: x['Country'],sales)"
   ]
  },
  {
   "cell_type": "code",
   "execution_count": 75,
   "id": "07ce36b0",
   "metadata": {},
   "outputs": [
    {
     "data": {
      "text/plain": [
       "['USA', 'India', 'China']"
      ]
     },
     "execution_count": 75,
     "metadata": {},
     "output_type": "execute_result"
    }
   ],
   "source": [
    "list(countries)\n",
    "# similarly we can do for sales amt also."
   ]
  },
  {
   "cell_type": "code",
   "execution_count": 76,
   "id": "f6641fe6",
   "metadata": {},
   "outputs": [
    {
     "data": {
      "text/plain": [
       "{'Country': 'USA', 'sale': 202.5}"
      ]
     },
     "execution_count": 76,
     "metadata": {},
     "output_type": "execute_result"
    }
   ],
   "source": [
    "sales['Country' == 'USA']"
   ]
  },
  {
   "cell_type": "code",
   "execution_count": 77,
   "id": "a4f4391a",
   "metadata": {},
   "outputs": [],
   "source": [
    "# filtering to be used in conditionals\n",
    "filter_Country = list(filter(lambda x : x['Country'] == 'USA',sales))"
   ]
  },
  {
   "cell_type": "code",
   "execution_count": 78,
   "id": "b747e74f",
   "metadata": {},
   "outputs": [
    {
     "data": {
      "text/plain": [
       "[{'Country': 'USA', 'sale': 202.5}]"
      ]
     },
     "execution_count": 78,
     "metadata": {},
     "output_type": "execute_result"
    }
   ],
   "source": [
    "filter_Country"
   ]
  },
  {
   "cell_type": "code",
   "execution_count": 79,
   "id": "94917cd8",
   "metadata": {},
   "outputs": [],
   "source": [
    "l1 = [1,2,3,4]\n",
    "l2 = [1,2,3,4]\n",
    "\n",
    "l3 = list(map(lambda x,y : x + y, l1,l2))"
   ]
  },
  {
   "cell_type": "code",
   "execution_count": 80,
   "id": "56462915",
   "metadata": {},
   "outputs": [
    {
     "data": {
      "text/plain": [
       "[2, 4, 6, 8]"
      ]
     },
     "execution_count": 80,
     "metadata": {},
     "output_type": "execute_result"
    }
   ],
   "source": [
    "l3"
   ]
  },
  {
   "cell_type": "code",
   "execution_count": null,
   "id": "88a7eb57",
   "metadata": {},
   "outputs": [],
   "source": []
  }
 ],
 "metadata": {
  "kernelspec": {
   "display_name": "Python 3",
   "language": "python",
   "name": "python3"
  },
  "language_info": {
   "codemirror_mode": {
    "name": "ipython",
    "version": 3
   },
   "file_extension": ".py",
   "mimetype": "text/x-python",
   "name": "python",
   "nbconvert_exporter": "python",
   "pygments_lexer": "ipython3",
   "version": "3.8.8"
  }
 },
 "nbformat": 4,
 "nbformat_minor": 5
}
